{
 "cells": [
  {
   "cell_type": "code",
   "execution_count": 130,
   "id": "ab1206f5",
   "metadata": {},
   "outputs": [
    {
     "name": "stdout",
     "output_type": "stream",
     "text": [
      "Import libraries\n"
     ]
    }
   ],
   "source": [
    "### Import libraries\n",
    "print('Import libraries')\n",
    "import tensorflow as tf\n",
    "import matplotlib.pyplot as plt\n",
    "import warnings\n",
    "import os\n",
    "import numpy as np\n",
    "import librosa\n",
    "from sklearn.model_selection import train_test_split"
   ]
  },
  {
   "cell_type": "code",
   "execution_count": 131,
   "id": "3ddb8279",
   "metadata": {},
   "outputs": [
    {
     "name": "stdout",
     "output_type": "stream",
     "text": [
      "Remove warnings\n",
      "Allow gpu memory growth\n"
     ]
    }
   ],
   "source": [
    "### Remove warnings\n",
    "print('Remove warnings')\n",
    "def warn(*args, **kwargs):\n",
    "    pass\n",
    "warnings.warn = warn\n",
    "warnings.simplefilter(action=\"ignore\", category=FutureWarning)\n",
    "warnings.filterwarnings(\"ignore\", category = DeprecationWarning)\n",
    "\n",
    "'''\n",
    "TF_CPP_MIN_LOG_LEVEL = 0 to all logs .\n",
    "TF_CPP_MIN_LOG_LEVEL = 1 to filter out INFO logs \n",
    "TF_CPP_MIN_LOG_LEVEL = 2 to additionall filter out WARNING \n",
    "TF_CPP_MIN_LOG_LEVEL = 3 to additionally filter out ERROR.\n",
    "'''\n",
    "os.environ['TF_CPP_MIN_LOG_LEVEL'] = '3'\n",
    "###\n",
    "### Allow gpu memory growth\n",
    "print('Allow gpu memory growth')\n",
    "physical_devices = tf.config.list_physical_devices('GPU')\n",
    "try:\n",
    "  tf.config.experimental.set_memory_growth(physical_devices[0], True)\n",
    "except:\n",
    "  # Invalid device or cannot modify virtual devices once initialized.\n",
    "  pass\n",
    "###"
   ]
  },
  {
   "cell_type": "code",
   "execution_count": 82,
   "id": "ad56990f",
   "metadata": {},
   "outputs": [],
   "source": [
    "def load_audio():\n",
    "    \n",
    "    files_dir = 'wav_data/'\n",
    "    \n",
    "    X_male = []\n",
    "    X_female = []\n",
    "    \n",
    "    with open('male.txt') as f:\n",
    "        male_files = [line.rstrip('\\n') for line in f]\n",
    "    with open('female.txt') as f:\n",
    "        female_files = [line.rstrip('\\n') for line in f]\n",
    "        \n",
    "    for file in male_files:\n",
    "        sound, _ = librosa.load(files_dir + file)\n",
    "        \n",
    "        stft = librosa.stft(sound, n_fft = 2048, hop_length = 1024)\n",
    "        stft_sum = np.expand_dims(np.sum(stft, axis=1), axis=1)\n",
    "        stft_sum = np.abs(stft_sum)\n",
    "        stft_sum = stft_sum / stft_sum.mean()\n",
    "        \n",
    "        X_male.append(stft_sum)\n",
    "    X_male = np.array(X_male)\n",
    "    \n",
    "    for file in female_files:\n",
    "        sound, _ = librosa.load(files_dir + file)\n",
    "        \n",
    "        stft = librosa.stft(sound, n_fft = 2048, hop_length = 1024)\n",
    "        stft_sum = np.expand_dims(np.sum(stft, axis=1), axis=1)\n",
    "        stft_sum = np.abs(stft_sum)\n",
    "        stft_sum = stft_sum / stft_sum.mean()\n",
    "        \n",
    "        X_female.append(stft_sum)\n",
    "    X_female = np.array(X_female)\n",
    "    \n",
    "    X = np.concatenate((X_male, X_female), axis=0)\n",
    "\n",
    "    Y = np.expand_dims(np.concatenate((np.ones(len(X_male)), np.zeros(len(X_male))), axis=0), axis=1)\n",
    "\n",
    "    \n",
    "    X_train, X_test, Y_train, Y_test = train_test_split(X, Y, test_size=0.2, random_state=1, shuffle=True)\n",
    "    \n",
    "    return (X_train, X_test, Y_train, Y_test)"
   ]
  },
  {
   "cell_type": "code",
   "execution_count": 83,
   "id": "3e014413",
   "metadata": {},
   "outputs": [
    {
     "name": "stdout",
     "output_type": "stream",
     "text": [
      "(163, 1025, 1) (163, 1) (41, 1025, 1) (41, 1)\n"
     ]
    }
   ],
   "source": [
    "X_train, X_test, Y_train, Y_test = load_audio()\n",
    "print(X_train.shape, Y_train.shape, X_test.shape, Y_test.shape)"
   ]
  },
  {
   "cell_type": "code",
   "execution_count": 93,
   "id": "663f7da4",
   "metadata": {},
   "outputs": [
    {
     "name": "stdout",
     "output_type": "stream",
     "text": [
      "(1025, 1)\n"
     ]
    }
   ],
   "source": [
    "print(X_train[0].shape)"
   ]
  },
  {
   "cell_type": "code",
   "execution_count": 168,
   "id": "e3d7d22f",
   "metadata": {},
   "outputs": [
    {
     "name": "stdout",
     "output_type": "stream",
     "text": [
      "Create model\n",
      "Model: \"sequential_25\"\n",
      "_________________________________________________________________\n",
      " Layer (type)                Output Shape              Param #   \n",
      "=================================================================\n",
      " dense_84 (Dense)            (None, 128)               131328    \n",
      "                                                                 \n",
      " dense_85 (Dense)            (None, 64)                8256      \n",
      "                                                                 \n",
      " dense_86 (Dense)            (None, 1)                 65        \n",
      "                                                                 \n",
      "=================================================================\n",
      "Total params: 139,649\n",
      "Trainable params: 139,649\n",
      "Non-trainable params: 0\n",
      "_________________________________________________________________\n"
     ]
    }
   ],
   "source": [
    "print('Create model')\n",
    "model = tf.keras.Sequential()\n",
    "\n",
    "\n",
    "model.add(tf.keras.layers.Dense(units=128, activation=\"relu\", input_shape=(X_train[0].shape[0],)))\n",
    "model.add(tf.keras.layers.Dense(units=64, activation=\"relu\"))\n",
    "model.add(tf.keras.layers.Dense(units=1, activation=\"sigmoid\"))\n",
    "\n",
    "########################################\n",
    "########################################\n",
    "\n",
    "cp_path = 'model'\n",
    "cp_callback = tf.keras.callbacks.ModelCheckpoint(\n",
    "    filepath=cp_path, \n",
    "    verbose=1, \n",
    "    save_weights_only=False,\n",
    "    save_freq=5)\n",
    "\n",
    "metrics = [\n",
    "      tf.keras.metrics.TruePositives(name='tp'),\n",
    "      tf.keras.metrics.FalsePositives(name='fp'),\n",
    "      tf.keras.metrics.TrueNegatives(name='tn'),\n",
    "      tf.keras.metrics.FalseNegatives(name='fn'), \n",
    "      tf.keras.metrics.BinaryAccuracy(name='accuracy'),\n",
    "      tf.keras.metrics.Precision(name='precision'),\n",
    "      tf.keras.metrics.Recall(name='recall'),\n",
    "      ]\n",
    "\n",
    "model.compile(optimizer=tf.keras.optimizers.Adam(learning_rate=1e-4),\n",
    "              loss=tf.keras.losses.BinaryCrossentropy(from_logits=False),\n",
    "              metrics=metrics) #tf.keras.metrics.BinaryAccuracy()\n",
    "\n",
    "model.build()\n",
    "model.summary()"
   ]
  },
  {
   "cell_type": "code",
   "execution_count": 169,
   "id": "605f6a30",
   "metadata": {},
   "outputs": [
    {
     "name": "stdout",
     "output_type": "stream",
     "text": [
      "Epoch 1/30\n",
      "1/6 [====>.........................] - ETA: 3s - loss: 1.2695 - tp: 16.0000 - fp: 13.0000 - tn: 1.0000 - fn: 2.0000 - accuracy: 0.5312 - precision: 0.5517 - recall: 0.8889\n",
      "Epoch 00001: saving model to model\n",
      "INFO:tensorflow:Assets written to: model/assets\n",
      "6/6 [==============================] - 1s 143ms/step - loss: 1.2765 - tp: 54.0000 - fp: 65.0000 - tn: 18.0000 - fn: 26.0000 - accuracy: 0.4417 - precision: 0.4538 - recall: 0.6750 - val_loss: 0.8816 - val_tp: 11.0000 - val_fp: 8.0000 - val_tn: 11.0000 - val_fn: 11.0000 - val_accuracy: 0.5366 - val_precision: 0.5789 - val_recall: 0.5000\n",
      "Epoch 2/30\n",
      "1/6 [====>.........................] - ETA: 0s - loss: 0.9725 - tp: 8.0000 - fp: 6.0000 - tn: 10.0000 - fn: 8.0000 - accuracy: 0.5625 - precision: 0.5714 - recall: 0.5000\n",
      "Epoch 00002: saving model to model\n",
      "INFO:tensorflow:Assets written to: model/assets\n",
      "6/6 [==============================] - 0s 77ms/step - loss: 0.8498 - tp: 42.0000 - fp: 29.0000 - tn: 54.0000 - fn: 38.0000 - accuracy: 0.5890 - precision: 0.5915 - recall: 0.5250 - val_loss: 0.6255 - val_tp: 14.0000 - val_fp: 3.0000 - val_tn: 16.0000 - val_fn: 8.0000 - val_accuracy: 0.7317 - val_precision: 0.8235 - val_recall: 0.6364\n",
      "Epoch 3/30\n",
      "1/6 [====>.........................] - ETA: 0s - loss: 0.9235 - tp: 11.0000 - fp: 5.0000 - tn: 7.0000 - fn: 9.0000 - accuracy: 0.5625 - precision: 0.6875 - recall: 0.5500\n",
      "Epoch 00003: saving model to model\n",
      "INFO:tensorflow:Assets written to: model/assets\n",
      "6/6 [==============================] - 0s 77ms/step - loss: 0.6204 - tp: 52.0000 - fp: 23.0000 - tn: 60.0000 - fn: 28.0000 - accuracy: 0.6871 - precision: 0.6933 - recall: 0.6500 - val_loss: 0.4378 - val_tp: 16.0000 - val_fp: 3.0000 - val_tn: 16.0000 - val_fn: 6.0000 - val_accuracy: 0.7805 - val_precision: 0.8421 - val_recall: 0.7273\n",
      "Epoch 4/30\n",
      "1/6 [====>.........................] - ETA: 0s - loss: 0.4739 - tp: 13.0000 - fp: 3.0000 - tn: 13.0000 - fn: 3.0000 - accuracy: 0.8125 - precision: 0.8125 - recall: 0.8125\n",
      "Epoch 00004: saving model to model\n",
      "INFO:tensorflow:Assets written to: model/assets\n",
      "6/6 [==============================] - 0s 76ms/step - loss: 0.4545 - tp: 64.0000 - fp: 15.0000 - tn: 68.0000 - fn: 16.0000 - accuracy: 0.8098 - precision: 0.8101 - recall: 0.8000 - val_loss: 0.3431 - val_tp: 17.0000 - val_fp: 2.0000 - val_tn: 17.0000 - val_fn: 5.0000 - val_accuracy: 0.8293 - val_precision: 0.8947 - val_recall: 0.7727\n",
      "Epoch 5/30\n",
      "\n",
      "Epoch 00005: saving model to model\n",
      "INFO:tensorflow:Assets written to: model/assets\n",
      "1/6 [====>.........................] - ETA: 1s - loss: 0.2669 - tp: 14.0000 - fp: 1.0000 - tn: 14.0000 - fn: 3.0000 - accuracy: 0.8750 - precision: 0.9333 - recall: 0.8235\n",
      "Epoch 00005: saving model to model\n",
      "INFO:tensorflow:Assets written to: model/assets\n",
      "6/6 [==============================] - 1s 76ms/step - loss: 0.3576 - tp: 69.0000 - fp: 11.0000 - tn: 72.0000 - fn: 11.0000 - accuracy: 0.8650 - precision: 0.8625 - recall: 0.8625 - val_loss: 0.2820 - val_tp: 20.0000 - val_fp: 0.0000e+00 - val_tn: 19.0000 - val_fn: 2.0000 - val_accuracy: 0.9512 - val_precision: 1.0000 - val_recall: 0.9091\n",
      "Epoch 6/30\n",
      "1/6 [====>.........................] - ETA: 0s - loss: 0.2722 - tp: 13.0000 - fp: 0.0000e+00 - tn: 17.0000 - fn: 2.0000 - accuracy: 0.9375 - precision: 1.0000 - recall: 0.8667\n",
      "Epoch 00006: saving model to model\n",
      "INFO:tensorflow:Assets written to: model/assets\n",
      "6/6 [==============================] - 0s 76ms/step - loss: 0.2939 - tp: 70.0000 - fp: 9.0000 - tn: 74.0000 - fn: 10.0000 - accuracy: 0.8834 - precision: 0.8861 - recall: 0.8750 - val_loss: 0.2500 - val_tp: 20.0000 - val_fp: 0.0000e+00 - val_tn: 19.0000 - val_fn: 2.0000 - val_accuracy: 0.9512 - val_precision: 1.0000 - val_recall: 0.9091\n",
      "Epoch 7/30\n",
      "1/6 [====>.........................] - ETA: 0s - loss: 0.2533 - tp: 13.0000 - fp: 1.0000 - tn: 15.0000 - fn: 3.0000 - accuracy: 0.8750 - precision: 0.9286 - recall: 0.8125\n",
      "Epoch 00007: saving model to model\n",
      "INFO:tensorflow:Assets written to: model/assets\n",
      "6/6 [==============================] - 0s 77ms/step - loss: 0.2447 - tp: 72.0000 - fp: 6.0000 - tn: 77.0000 - fn: 8.0000 - accuracy: 0.9141 - precision: 0.9231 - recall: 0.9000 - val_loss: 0.2250 - val_tp: 20.0000 - val_fp: 0.0000e+00 - val_tn: 19.0000 - val_fn: 2.0000 - val_accuracy: 0.9512 - val_precision: 1.0000 - val_recall: 0.9091\n",
      "Epoch 8/30\n",
      "1/6 [====>.........................] - ETA: 0s - loss: 0.2473 - tp: 15.0000 - fp: 2.0000 - tn: 14.0000 - fn: 1.0000 - accuracy: 0.9062 - precision: 0.8824 - recall: 0.9375\n",
      "Epoch 00008: saving model to model\n",
      "INFO:tensorflow:Assets written to: model/assets\n",
      "6/6 [==============================] - 0s 76ms/step - loss: 0.2072 - tp: 73.0000 - fp: 5.0000 - tn: 78.0000 - fn: 7.0000 - accuracy: 0.9264 - precision: 0.9359 - recall: 0.9125 - val_loss: 0.1968 - val_tp: 20.0000 - val_fp: 0.0000e+00 - val_tn: 19.0000 - val_fn: 2.0000 - val_accuracy: 0.9512 - val_precision: 1.0000 - val_recall: 0.9091\n",
      "Epoch 9/30\n",
      "1/6 [====>.........................] - ETA: 0s - loss: 0.2576 - tp: 14.0000 - fp: 1.0000 - tn: 14.0000 - fn: 3.0000 - accuracy: 0.8750 - precision: 0.9333 - recall: 0.8235\n",
      "Epoch 00009: saving model to model\n",
      "INFO:tensorflow:Assets written to: model/assets\n",
      "6/6 [==============================] - 0s 77ms/step - loss: 0.1755 - tp: 76.0000 - fp: 5.0000 - tn: 78.0000 - fn: 4.0000 - accuracy: 0.9448 - precision: 0.9383 - recall: 0.9500 - val_loss: 0.1782 - val_tp: 21.0000 - val_fp: 0.0000e+00 - val_tn: 19.0000 - val_fn: 1.0000 - val_accuracy: 0.9756 - val_precision: 1.0000 - val_recall: 0.9545\n",
      "Epoch 10/30\n",
      "\n",
      "Epoch 00010: saving model to model\n",
      "INFO:tensorflow:Assets written to: model/assets\n",
      "1/6 [====>.........................] - ETA: 1s - loss: 0.1153 - tp: 18.0000 - fp: 1.0000 - tn: 13.0000 - fn: 0.0000e+00 - accuracy: 0.9688 - precision: 0.9474 - recall: 1.0000\n",
      "Epoch 00010: saving model to model\n",
      "INFO:tensorflow:Assets written to: model/assets\n",
      "6/6 [==============================] - 1s 77ms/step - loss: 0.1502 - tp: 78.0000 - fp: 5.0000 - tn: 78.0000 - fn: 2.0000 - accuracy: 0.9571 - precision: 0.9398 - recall: 0.9750 - val_loss: 0.1687 - val_tp: 21.0000 - val_fp: 0.0000e+00 - val_tn: 19.0000 - val_fn: 1.0000 - val_accuracy: 0.9756 - val_precision: 1.0000 - val_recall: 0.9545\n",
      "Epoch 11/30\n",
      "1/6 [====>.........................] - ETA: 0s - loss: 0.1326 - tp: 18.0000 - fp: 0.0000e+00 - tn: 14.0000 - fn: 0.0000e+00 - accuracy: 1.0000 - precision: 1.0000 - recall: 1.0000\n",
      "Epoch 00011: saving model to model\n",
      "INFO:tensorflow:Assets written to: model/assets\n",
      "6/6 [==============================] - 0s 78ms/step - loss: 0.1325 - tp: 78.0000 - fp: 3.0000 - tn: 80.0000 - fn: 2.0000 - accuracy: 0.9693 - precision: 0.9630 - recall: 0.9750 - val_loss: 0.1641 - val_tp: 20.0000 - val_fp: 0.0000e+00 - val_tn: 19.0000 - val_fn: 2.0000 - val_accuracy: 0.9512 - val_precision: 1.0000 - val_recall: 0.9091\n",
      "Epoch 12/30\n",
      "1/6 [====>.........................] - ETA: 0s - loss: 0.1347 - tp: 14.0000 - fp: 1.0000 - tn: 17.0000 - fn: 0.0000e+00 - accuracy: 0.9688 - precision: 0.9333 - recall: 1.0000\n",
      "Epoch 00012: saving model to model\n",
      "INFO:tensorflow:Assets written to: model/assets\n",
      "6/6 [==============================] - 0s 78ms/step - loss: 0.1167 - tp: 79.0000 - fp: 1.0000 - tn: 82.0000 - fn: 1.0000 - accuracy: 0.9877 - precision: 0.9875 - recall: 0.9875 - val_loss: 0.1643 - val_tp: 20.0000 - val_fp: 0.0000e+00 - val_tn: 19.0000 - val_fn: 2.0000 - val_accuracy: 0.9512 - val_precision: 1.0000 - val_recall: 0.9091\n",
      "Epoch 13/30\n",
      "1/6 [====>.........................] - ETA: 0s - loss: 0.1251 - tp: 14.0000 - fp: 0.0000e+00 - tn: 18.0000 - fn: 0.0000e+00 - accuracy: 1.0000 - precision: 1.0000 - recall: 1.0000\n",
      "Epoch 00013: saving model to model\n",
      "INFO:tensorflow:Assets written to: model/assets\n",
      "6/6 [==============================] - 0s 76ms/step - loss: 0.1032 - tp: 80.0000 - fp: 0.0000e+00 - tn: 83.0000 - fn: 0.0000e+00 - accuracy: 1.0000 - precision: 1.0000 - recall: 1.0000 - val_loss: 0.1513 - val_tp: 21.0000 - val_fp: 0.0000e+00 - val_tn: 19.0000 - val_fn: 1.0000 - val_accuracy: 0.9756 - val_precision: 1.0000 - val_recall: 0.9545\n",
      "Epoch 14/30\n"
     ]
    },
    {
     "name": "stdout",
     "output_type": "stream",
     "text": [
      "1/6 [====>.........................] - ETA: 0s - loss: 0.0988 - tp: 16.0000 - fp: 0.0000e+00 - tn: 16.0000 - fn: 0.0000e+00 - accuracy: 1.0000 - precision: 1.0000 - recall: 1.0000\n",
      "Epoch 00014: saving model to model\n",
      "INFO:tensorflow:Assets written to: model/assets\n",
      "6/6 [==============================] - 1s 140ms/step - loss: 0.0928 - tp: 80.0000 - fp: 0.0000e+00 - tn: 83.0000 - fn: 0.0000e+00 - accuracy: 1.0000 - precision: 1.0000 - recall: 1.0000 - val_loss: 0.1446 - val_tp: 21.0000 - val_fp: 0.0000e+00 - val_tn: 19.0000 - val_fn: 1.0000 - val_accuracy: 0.9756 - val_precision: 1.0000 - val_recall: 0.9545\n",
      "Epoch 15/30\n",
      "\n",
      "Epoch 00015: saving model to model\n",
      "INFO:tensorflow:Assets written to: model/assets\n",
      "1/6 [====>.........................] - ETA: 1s - loss: 0.1045 - tp: 15.0000 - fp: 0.0000e+00 - tn: 17.0000 - fn: 0.0000e+00 - accuracy: 1.0000 - precision: 1.0000 - recall: 1.0000\n",
      "Epoch 00015: saving model to model\n",
      "INFO:tensorflow:Assets written to: model/assets\n",
      "6/6 [==============================] - 1s 79ms/step - loss: 0.0851 - tp: 80.0000 - fp: 0.0000e+00 - tn: 83.0000 - fn: 0.0000e+00 - accuracy: 1.0000 - precision: 1.0000 - recall: 1.0000 - val_loss: 0.1393 - val_tp: 21.0000 - val_fp: 0.0000e+00 - val_tn: 19.0000 - val_fn: 1.0000 - val_accuracy: 0.9756 - val_precision: 1.0000 - val_recall: 0.9545\n",
      "Epoch 16/30\n",
      "1/6 [====>.........................] - ETA: 0s - loss: 0.0916 - tp: 16.0000 - fp: 0.0000e+00 - tn: 16.0000 - fn: 0.0000e+00 - accuracy: 1.0000 - precision: 1.0000 - recall: 1.0000\n",
      "Epoch 00016: saving model to model\n",
      "INFO:tensorflow:Assets written to: model/assets\n",
      "6/6 [==============================] - 0s 78ms/step - loss: 0.0780 - tp: 80.0000 - fp: 0.0000e+00 - tn: 83.0000 - fn: 0.0000e+00 - accuracy: 1.0000 - precision: 1.0000 - recall: 1.0000 - val_loss: 0.1404 - val_tp: 21.0000 - val_fp: 0.0000e+00 - val_tn: 19.0000 - val_fn: 1.0000 - val_accuracy: 0.9756 - val_precision: 1.0000 - val_recall: 0.9545\n",
      "Epoch 17/30\n",
      "1/6 [====>.........................] - ETA: 0s - loss: 0.0488 - tp: 19.0000 - fp: 0.0000e+00 - tn: 13.0000 - fn: 0.0000e+00 - accuracy: 1.0000 - precision: 1.0000 - recall: 1.0000\n",
      "Epoch 00017: saving model to model\n",
      "INFO:tensorflow:Assets written to: model/assets\n",
      "6/6 [==============================] - 0s 75ms/step - loss: 0.0705 - tp: 80.0000 - fp: 0.0000e+00 - tn: 83.0000 - fn: 0.0000e+00 - accuracy: 1.0000 - precision: 1.0000 - recall: 1.0000 - val_loss: 0.1413 - val_tp: 21.0000 - val_fp: 0.0000e+00 - val_tn: 19.0000 - val_fn: 1.0000 - val_accuracy: 0.9756 - val_precision: 1.0000 - val_recall: 0.9545\n",
      "Epoch 18/30\n",
      "1/6 [====>.........................] - ETA: 0s - loss: 0.0632 - tp: 12.0000 - fp: 0.0000e+00 - tn: 20.0000 - fn: 0.0000e+00 - accuracy: 1.0000 - precision: 1.0000 - recall: 1.0000\n",
      "Epoch 00018: saving model to model\n",
      "INFO:tensorflow:Assets written to: model/assets\n",
      "6/6 [==============================] - 0s 76ms/step - loss: 0.0654 - tp: 80.0000 - fp: 0.0000e+00 - tn: 83.0000 - fn: 0.0000e+00 - accuracy: 1.0000 - precision: 1.0000 - recall: 1.0000 - val_loss: 0.1425 - val_tp: 21.0000 - val_fp: 0.0000e+00 - val_tn: 19.0000 - val_fn: 1.0000 - val_accuracy: 0.9756 - val_precision: 1.0000 - val_recall: 0.9545\n",
      "Epoch 19/30\n",
      "1/6 [====>.........................] - ETA: 0s - loss: 0.0524 - tp: 13.0000 - fp: 0.0000e+00 - tn: 19.0000 - fn: 0.0000e+00 - accuracy: 1.0000 - precision: 1.0000 - recall: 1.0000\n",
      "Epoch 00019: saving model to model\n",
      "INFO:tensorflow:Assets written to: model/assets\n",
      "6/6 [==============================] - 0s 76ms/step - loss: 0.0610 - tp: 80.0000 - fp: 0.0000e+00 - tn: 83.0000 - fn: 0.0000e+00 - accuracy: 1.0000 - precision: 1.0000 - recall: 1.0000 - val_loss: 0.1492 - val_tp: 20.0000 - val_fp: 0.0000e+00 - val_tn: 19.0000 - val_fn: 2.0000 - val_accuracy: 0.9512 - val_precision: 1.0000 - val_recall: 0.9091\n",
      "Epoch 20/30\n",
      "\n",
      "Epoch 00020: saving model to model\n",
      "INFO:tensorflow:Assets written to: model/assets\n",
      "1/6 [====>.........................] - ETA: 1s - loss: 0.0500 - tp: 16.0000 - fp: 0.0000e+00 - tn: 16.0000 - fn: 0.0000e+00 - accuracy: 1.0000 - precision: 1.0000 - recall: 1.0000\n",
      "Epoch 00020: saving model to model\n",
      "INFO:tensorflow:Assets written to: model/assets\n",
      "6/6 [==============================] - 1s 77ms/step - loss: 0.0553 - tp: 80.0000 - fp: 0.0000e+00 - tn: 83.0000 - fn: 0.0000e+00 - accuracy: 1.0000 - precision: 1.0000 - recall: 1.0000 - val_loss: 0.1409 - val_tp: 21.0000 - val_fp: 0.0000e+00 - val_tn: 19.0000 - val_fn: 1.0000 - val_accuracy: 0.9756 - val_precision: 1.0000 - val_recall: 0.9545\n",
      "Epoch 21/30\n",
      "1/6 [====>.........................] - ETA: 0s - loss: 0.0560 - tp: 17.0000 - fp: 0.0000e+00 - tn: 15.0000 - fn: 0.0000e+00 - accuracy: 1.0000 - precision: 1.0000 - recall: 1.0000\n",
      "Epoch 00021: saving model to model\n",
      "INFO:tensorflow:Assets written to: model/assets\n",
      "6/6 [==============================] - 0s 76ms/step - loss: 0.0520 - tp: 80.0000 - fp: 0.0000e+00 - tn: 83.0000 - fn: 0.0000e+00 - accuracy: 1.0000 - precision: 1.0000 - recall: 1.0000 - val_loss: 0.1364 - val_tp: 21.0000 - val_fp: 0.0000e+00 - val_tn: 19.0000 - val_fn: 1.0000 - val_accuracy: 0.9756 - val_precision: 1.0000 - val_recall: 0.9545\n",
      "Epoch 22/30\n",
      "1/6 [====>.........................] - ETA: 0s - loss: 0.0460 - tp: 15.0000 - fp: 0.0000e+00 - tn: 17.0000 - fn: 0.0000e+00 - accuracy: 1.0000 - precision: 1.0000 - recall: 1.0000\n",
      "Epoch 00022: saving model to model\n",
      "INFO:tensorflow:Assets written to: model/assets\n",
      "6/6 [==============================] - 0s 76ms/step - loss: 0.0486 - tp: 80.0000 - fp: 0.0000e+00 - tn: 83.0000 - fn: 0.0000e+00 - accuracy: 1.0000 - precision: 1.0000 - recall: 1.0000 - val_loss: 0.1378 - val_tp: 21.0000 - val_fp: 0.0000e+00 - val_tn: 19.0000 - val_fn: 1.0000 - val_accuracy: 0.9756 - val_precision: 1.0000 - val_recall: 0.9545\n",
      "Epoch 23/30\n",
      "1/6 [====>.........................] - ETA: 0s - loss: 0.0517 - tp: 19.0000 - fp: 0.0000e+00 - tn: 13.0000 - fn: 0.0000e+00 - accuracy: 1.0000 - precision: 1.0000 - recall: 1.0000\n",
      "Epoch 00023: saving model to model\n",
      "INFO:tensorflow:Assets written to: model/assets\n",
      "6/6 [==============================] - 0s 75ms/step - loss: 0.0451 - tp: 80.0000 - fp: 0.0000e+00 - tn: 83.0000 - fn: 0.0000e+00 - accuracy: 1.0000 - precision: 1.0000 - recall: 1.0000 - val_loss: 0.1391 - val_tp: 21.0000 - val_fp: 0.0000e+00 - val_tn: 19.0000 - val_fn: 1.0000 - val_accuracy: 0.9756 - val_precision: 1.0000 - val_recall: 0.9545\n",
      "Epoch 24/30\n",
      "1/6 [====>.........................] - ETA: 0s - loss: 0.0452 - tp: 15.0000 - fp: 0.0000e+00 - tn: 17.0000 - fn: 0.0000e+00 - accuracy: 1.0000 - precision: 1.0000 - recall: 1.0000\n",
      "Epoch 00024: saving model to model\n",
      "INFO:tensorflow:Assets written to: model/assets\n",
      "6/6 [==============================] - 0s 75ms/step - loss: 0.0425 - tp: 80.0000 - fp: 0.0000e+00 - tn: 83.0000 - fn: 0.0000e+00 - accuracy: 1.0000 - precision: 1.0000 - recall: 1.0000 - val_loss: 0.1431 - val_tp: 21.0000 - val_fp: 0.0000e+00 - val_tn: 19.0000 - val_fn: 1.0000 - val_accuracy: 0.9756 - val_precision: 1.0000 - val_recall: 0.9545\n",
      "Epoch 25/30\n",
      "\n",
      "Epoch 00025: saving model to model\n",
      "INFO:tensorflow:Assets written to: model/assets\n",
      "1/6 [====>.........................] - ETA: 1s - loss: 0.0436 - tp: 19.0000 - fp: 0.0000e+00 - tn: 13.0000 - fn: 0.0000e+00 - accuracy: 1.0000 - precision: 1.0000 - recall: 1.0000\n",
      "Epoch 00025: saving model to model\n",
      "INFO:tensorflow:Assets written to: model/assets\n",
      "6/6 [==============================] - 1s 75ms/step - loss: 0.0399 - tp: 80.0000 - fp: 0.0000e+00 - tn: 83.0000 - fn: 0.0000e+00 - accuracy: 1.0000 - precision: 1.0000 - recall: 1.0000 - val_loss: 0.1399 - val_tp: 21.0000 - val_fp: 0.0000e+00 - val_tn: 19.0000 - val_fn: 1.0000 - val_accuracy: 0.9756 - val_precision: 1.0000 - val_recall: 0.9545\n",
      "Epoch 26/30\n",
      "1/6 [====>.........................] - ETA: 0s - loss: 0.0505 - tp: 18.0000 - fp: 0.0000e+00 - tn: 14.0000 - fn: 0.0000e+00 - accuracy: 1.0000 - precision: 1.0000 - recall: 1.0000\n",
      "Epoch 00026: saving model to model\n",
      "INFO:tensorflow:Assets written to: model/assets\n",
      "6/6 [==============================] - 0s 80ms/step - loss: 0.0375 - tp: 80.0000 - fp: 0.0000e+00 - tn: 83.0000 - fn: 0.0000e+00 - accuracy: 1.0000 - precision: 1.0000 - recall: 1.0000 - val_loss: 0.1394 - val_tp: 21.0000 - val_fp: 0.0000e+00 - val_tn: 19.0000 - val_fn: 1.0000 - val_accuracy: 0.9756 - val_precision: 1.0000 - val_recall: 0.9545\n"
     ]
    },
    {
     "name": "stdout",
     "output_type": "stream",
     "text": [
      "Epoch 27/30\n",
      "1/6 [====>.........................] - ETA: 0s - loss: 0.0451 - tp: 20.0000 - fp: 0.0000e+00 - tn: 12.0000 - fn: 0.0000e+00 - accuracy: 1.0000 - precision: 1.0000 - recall: 1.0000\n",
      "Epoch 00027: saving model to model\n",
      "INFO:tensorflow:Assets written to: model/assets\n",
      "6/6 [==============================] - 0s 79ms/step - loss: 0.0354 - tp: 80.0000 - fp: 0.0000e+00 - tn: 83.0000 - fn: 0.0000e+00 - accuracy: 1.0000 - precision: 1.0000 - recall: 1.0000 - val_loss: 0.1348 - val_tp: 21.0000 - val_fp: 0.0000e+00 - val_tn: 19.0000 - val_fn: 1.0000 - val_accuracy: 0.9756 - val_precision: 1.0000 - val_recall: 0.9545\n",
      "Epoch 28/30\n",
      "1/6 [====>.........................] - ETA: 0s - loss: 0.0268 - tp: 16.0000 - fp: 0.0000e+00 - tn: 16.0000 - fn: 0.0000e+00 - accuracy: 1.0000 - precision: 1.0000 - recall: 1.0000\n",
      "Epoch 00028: saving model to model\n",
      "INFO:tensorflow:Assets written to: model/assets\n",
      "6/6 [==============================] - 0s 78ms/step - loss: 0.0330 - tp: 80.0000 - fp: 0.0000e+00 - tn: 83.0000 - fn: 0.0000e+00 - accuracy: 1.0000 - precision: 1.0000 - recall: 1.0000 - val_loss: 0.1312 - val_tp: 21.0000 - val_fp: 0.0000e+00 - val_tn: 19.0000 - val_fn: 1.0000 - val_accuracy: 0.9756 - val_precision: 1.0000 - val_recall: 0.9545\n",
      "Epoch 29/30\n",
      "1/6 [====>.........................] - ETA: 0s - loss: 0.0241 - tp: 15.0000 - fp: 0.0000e+00 - tn: 17.0000 - fn: 0.0000e+00 - accuracy: 1.0000 - precision: 1.0000 - recall: 1.0000\n",
      "Epoch 00029: saving model to model\n",
      "INFO:tensorflow:Assets written to: model/assets\n",
      "6/6 [==============================] - 0s 77ms/step - loss: 0.0309 - tp: 80.0000 - fp: 0.0000e+00 - tn: 83.0000 - fn: 0.0000e+00 - accuracy: 1.0000 - precision: 1.0000 - recall: 1.0000 - val_loss: 0.1232 - val_tp: 21.0000 - val_fp: 0.0000e+00 - val_tn: 19.0000 - val_fn: 1.0000 - val_accuracy: 0.9756 - val_precision: 1.0000 - val_recall: 0.9545\n",
      "Epoch 30/30\n",
      "\n",
      "Epoch 00030: saving model to model\n",
      "INFO:tensorflow:Assets written to: model/assets\n",
      "1/6 [====>.........................] - ETA: 1s - loss: 0.0357 - tp: 17.0000 - fp: 0.0000e+00 - tn: 15.0000 - fn: 0.0000e+00 - accuracy: 1.0000 - precision: 1.0000 - recall: 1.0000\n",
      "Epoch 00030: saving model to model\n",
      "INFO:tensorflow:Assets written to: model/assets\n",
      "6/6 [==============================] - 1s 78ms/step - loss: 0.0297 - tp: 80.0000 - fp: 0.0000e+00 - tn: 83.0000 - fn: 0.0000e+00 - accuracy: 1.0000 - precision: 1.0000 - recall: 1.0000 - val_loss: 0.1219 - val_tp: 21.0000 - val_fp: 0.0000e+00 - val_tn: 19.0000 - val_fn: 1.0000 - val_accuracy: 0.9756 - val_precision: 1.0000 - val_recall: 0.9545\n"
     ]
    }
   ],
   "source": [
    "epochs = 30\n",
    "\n",
    "history = model.fit(x = X_train, y = Y_train,\n",
    "                    #batch_size = batch_size,\n",
    "                    validation_data = (X_test, Y_test),\n",
    "                    verbose = 1,\n",
    "                    epochs = epochs,\n",
    "                    callbacks=[cp_callback])\n"
   ]
  },
  {
   "cell_type": "code",
   "execution_count": 138,
   "id": "1ac6186d",
   "metadata": {},
   "outputs": [
    {
     "name": "stdout",
     "output_type": "stream",
     "text": [
      "dict_keys(['loss', 'tp', 'fp', 'tn', 'fn', 'accuracy', 'precision', 'recall', 'val_loss', 'val_tp', 'val_fp', 'val_tn', 'val_fn', 'val_accuracy', 'val_precision', 'val_recall'])\n"
     ]
    }
   ],
   "source": [
    "print(history.history.keys())"
   ]
  },
  {
   "cell_type": "code",
   "execution_count": 161,
   "id": "601eb87c",
   "metadata": {},
   "outputs": [
    {
     "data": {
      "image/png": "[encoded data removed]",
      "text/plain": [
       "<Figure size 432x288 with 1 Axes>"
      ]
     },
     "metadata": {
      "needs_background": "light"
     },
     "output_type": "display_data"
    }
   ],
   "source": [
    "plt.plot(history.history['loss'], label='Train')\n",
    "plt.plot(history.history['val_loss'], 'g--', label='Valid')\n",
    "plt.legend()\n",
    "plt.title('model loss')\n",
    "plt.ylabel('loss')\n",
    "plt.xlabel('epoch')\n",
    "plt.show()"
   ]
  },
  {
   "cell_type": "code",
   "execution_count": 162,
   "id": "6706b7a4",
   "metadata": {},
   "outputs": [
    {
     "data": {
      "image/png": "[encoded data removed]",
      "text/plain": [
       "<Figure size 432x288 with 1 Axes>"
      ]
     },
     "metadata": {
      "needs_background": "light"
     },
     "output_type": "display_data"
    }
   ],
   "source": [
    "plt.plot(history.history['precision'], label='Train')\n",
    "plt.plot(history.history['val_precision'], 'g--', label='Valid')\n",
    "plt.legend()\n",
    "plt.title('model precision')\n",
    "plt.ylabel('precision')\n",
    "plt.xlabel('epoch')\n",
    "plt.show()"
   ]
  },
  {
   "cell_type": "code",
   "execution_count": 163,
   "id": "712e06fc",
   "metadata": {},
   "outputs": [
    {
     "data": {
      "image/png": "[encoded data removed]",
      "text/plain": [
       "<Figure size 432x288 with 1 Axes>"
      ]
     },
     "metadata": {
      "needs_background": "light"
     },
     "output_type": "display_data"
    }
   ],
   "source": [
    "plt.plot(history.history['recall'], label='Train')\n",
    "plt.plot(history.history['val_recall'], 'g--', label='Valid')\n",
    "plt.legend()\n",
    "plt.title('model recall')\n",
    "plt.ylabel('recall')\n",
    "plt.xlabel('epoch')\n",
    "plt.show()"
   ]
  },
  {
   "cell_type": "code",
   "execution_count": 148,
   "id": "8b16e9a9",
   "metadata": {},
   "outputs": [],
   "source": [
    "F1 = 2 * (np.multiply(history.history['precision'], history.history['recall'])) / np.sum((history.history['precision'], history.history['recall']))\n",
    "val_F1 = 2 * (np.multiply(history.history['val_precision'], history.history['val_recall'])) / np.sum((history.history['val_precision'], history.history['val_recall']))"
   ]
  },
  {
   "cell_type": "code",
   "execution_count": 152,
   "id": "596a3172",
   "metadata": {},
   "outputs": [
    {
     "data": {
      "image/png": "[encoded data removed]",
      "text/plain": [
       "<Figure size 432x288 with 1 Axes>"
      ]
     },
     "metadata": {
      "needs_background": "light"
     },
     "output_type": "display_data"
    }
   ],
   "source": [
    "plt.plot(F1, label='Train')\n",
    "plt.plot(val_F1, 'g--', label='Valid')\n",
    "plt.legend()\n",
    "plt.title('model F1 score')\n",
    "plt.ylabel('F1 score')\n",
    "plt.xlabel('epoch')\n",
    "plt.show()"
   ]
  }
 ],
 "metadata": {
  "kernelspec": {
   "display_name": "Python 3 (ipykernel)",
   "language": "python",
   "name": "python3"
  },
  "language_info": {
   "codemirror_mode": {
    "name": "ipython",
    "version": 3
   },
   "file_extension": ".py",
   "mimetype": "text/x-python",
   "name": "python",
   "nbconvert_exporter": "python",
   "pygments_lexer": "ipython3",
   "version": "3.8.10"
  }
 },
 "nbformat": 4,
 "nbformat_minor": 5
}
